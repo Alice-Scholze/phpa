{
 "cells": [
  {
   "cell_type": "code",
   "execution_count": 1,
   "id": "97fc4069",
   "metadata": {},
   "outputs": [],
   "source": [
    "import time\n",
    "import requests\n",
    "import threading"
   ]
  },
  {
   "cell_type": "code",
   "execution_count": 2,
   "id": "9c04c566",
   "metadata": {},
   "outputs": [],
   "source": [
    "def do_get():\n",
    "    start_at = time.time()\n",
    "    print(requests.get('http://34.136.217.127:3000/test').json())\n",
    "    print(\"Demorou \", time.time() - start_at)"
   ]
  },
  {
   "cell_type": "code",
   "execution_count": 4,
   "id": "554f9ac8",
   "metadata": {},
   "outputs": [],
   "source": [
    "def run(num):\n",
    "    threads = []\n",
    "    for i in range(num):\n",
    "        threads.append(threading.Thread(target=do_get))\n",
    "        threads[i].start()\n",
    "\n",
    "    for i in range(num):\n",
    "        threads[i].join()"
   ]
  },
  {
   "cell_type": "code",
   "execution_count": null,
   "id": "ae2335e7",
   "metadata": {},
   "outputs": [],
   "source": [
    "run(5)\n",
    "\n",
    "time.sleep(5)\n",
    "\n",
    "run(10)\n",
    "\n",
    "time.sleep(15)\n",
    "\n",
    "run(7)\n",
    "\n",
    "time.sleep(5)"
   ]
  }
 ],
 "metadata": {
  "kernelspec": {
   "display_name": "Python 3 (ipykernel)",
   "language": "python",
   "name": "python3"
  },
  "language_info": {
   "codemirror_mode": {
    "name": "ipython",
    "version": 3
   },
   "file_extension": ".py",
   "mimetype": "text/x-python",
   "name": "python",
   "nbconvert_exporter": "python",
   "pygments_lexer": "ipython3",
   "version": "3.9.5"
  }
 },
 "nbformat": 4,
 "nbformat_minor": 5
}
