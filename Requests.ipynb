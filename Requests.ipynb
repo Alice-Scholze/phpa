{
 "cells": [
  {
   "cell_type": "code",
   "execution_count": null,
   "source": [
    "import time\n",
    "import requests\n",
    "import threading\n",
    "import numpy as np\n",
    "import datetime"
   ],
   "outputs": [],
   "metadata": {}
  },
  {
   "cell_type": "code",
   "execution_count": null,
   "source": [
    "def do_get():\n",
    "    start_at = time.time()\n",
    "    requests.get('http://34.136.217.127:3000/test')\n",
    "#     print(\"Demorou \", time.time() - start_at)"
   ],
   "outputs": [],
   "metadata": {}
  },
  {
   "cell_type": "code",
   "execution_count": null,
   "source": [
    "def run(num):\n",
    "    threads = []\n",
    "    for i in range(num):\n",
    "        threads.append(threading.Thread(target=do_get))\n",
    "        threads[i].start()\n",
    "\n",
    "    for i in range(num):\n",
    "        threads[i].join()"
   ],
   "outputs": [],
   "metadata": {}
  },
  {
   "cell_type": "code",
   "execution_count": null,
   "source": [
    "while(True):\n",
    "    #req = np.random.randint(3,15)\n",
    "    last = 0\n",
    "    for req in [2,4,6,8,10,12]:\n",
    "        print(\"Init to \", req, \" at \", datetime.datetime.now())\n",
    "        for x in range(2160):\n",
    "            run(np.random.randint(last + 1, req + 1))\n",
    "            time.sleep(5)\n",
    "        last = req"
   ],
   "outputs": [],
   "metadata": {}
  },
  {
   "cell_type": "code",
   "execution_count": null,
   "source": [
    "for x in [4,8,12]:\n",
    "    print(x)"
   ],
   "outputs": [],
   "metadata": {}
  },
  {
   "cell_type": "code",
   "execution_count": null,
   "source": [
    "a = 0.2\n",
    "b = 0\n",
    "\n",
    "for x in range(1,21):\n",
    "    b = b + a\n",
    "    t = sum([x for x in range(1,x+1)])\n",
    "    print(\" \", x, \" -- \", a, \"  b \", b, \" -- \", b/x)\n",
    "    a = a + 0.2"
   ],
   "outputs": [],
   "metadata": {}
  },
  {
   "cell_type": "code",
   "execution_count": null,
   "source": [
    " [x for x in range(1,20+1)]"
   ],
   "outputs": [],
   "metadata": {}
  },
  {
   "cell_type": "code",
   "execution_count": null,
   "source": [
    "14+14+14"
   ],
   "outputs": [],
   "metadata": {}
  },
  {
   "cell_type": "code",
   "execution_count": null,
   "source": [
    "9+9+9+9+9"
   ],
   "outputs": [],
   "metadata": {}
  },
  {
   "cell_type": "code",
   "execution_count": null,
   "source": [
    "4+4+4+4+4+4+4+4+4+4"
   ],
   "outputs": [],
   "metadata": {}
  },
  {
   "cell_type": "code",
   "execution_count": null,
   "source": [
    "18*2"
   ],
   "outputs": [],
   "metadata": {}
  },
  {
   "cell_type": "code",
   "execution_count": null,
   "source": [
    "36+18"
   ],
   "outputs": [],
   "metadata": {}
  },
  {
   "cell_type": "code",
   "execution_count": null,
   "source": [],
   "outputs": [],
   "metadata": {}
  }
 ],
 "metadata": {
  "kernelspec": {
   "display_name": "Python 3 (ipykernel)",
   "language": "python",
   "name": "python3"
  },
  "language_info": {
   "codemirror_mode": {
    "name": "ipython",
    "version": 3
   },
   "file_extension": ".py",
   "mimetype": "text/x-python",
   "name": "python",
   "nbconvert_exporter": "python",
   "pygments_lexer": "ipython3",
   "version": "3.9.5"
  }
 },
 "nbformat": 4,
 "nbformat_minor": 5
}