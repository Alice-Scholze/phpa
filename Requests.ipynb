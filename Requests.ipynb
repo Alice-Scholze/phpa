{
 "cells": [
  {
   "cell_type": "code",
   "execution_count": 5,
   "id": "d0a7ea9a",
   "metadata": {},
   "outputs": [],
   "source": [
    "import time\n",
    "import requests\n",
    "import threading"
   ]
  },
  {
   "cell_type": "code",
   "execution_count": 6,
   "id": "84686823",
   "metadata": {},
   "outputs": [],
   "source": [
    "def do_get():\n",
    "    start_at = time.time()\n",
    "    print(requests.get('http://34.136.217.127:3000/test').json())\n",
    "    print(\"Demorou \", time.time() - start_at)"
   ]
  },
  {
   "cell_type": "code",
   "execution_count": 7,
   "id": "0d70a162",
   "metadata": {},
   "outputs": [],
   "source": [
    "def run(num):\n",
    "    threads = []\n",
    "    for i in range(num):\n",
    "        threads.append(threading.Thread(target=do_get))\n",
    "        threads[i].start()\n",
    "\n",
    "    for i in range(num):\n",
    "        threads[i].join()"
   ]
  },
  {
   "cell_type": "code",
   "execution_count": null,
   "id": "26ee5b60",
   "metadata": {},
   "outputs": [],
   "source": []
  },
  {
   "cell_type": "code",
   "execution_count": 49,
   "id": "0b3685d4",
   "metadata": {},
   "outputs": [
    {
     "name": "stdout",
     "output_type": "stream",
     "text": [
      "  1  --  0.2   b  0.2  --  0.2\n",
      "  2  --  0.4   b  0.6000000000000001  --  0.30000000000000004\n",
      "  3  --  0.6000000000000001   b  1.2000000000000002  --  0.4000000000000001\n",
      "  4  --  0.8   b  2.0  --  0.5\n",
      "  5  --  1.0   b  3.0  --  0.6\n",
      "  6  --  1.2   b  4.2  --  0.7000000000000001\n",
      "  7  --  1.4   b  5.6  --  0.7999999999999999\n",
      "  8  --  1.5999999999999999   b  7.199999999999999  --  0.8999999999999999\n",
      "  9  --  1.7999999999999998   b  9.0  --  1.0\n",
      "  10  --  1.9999999999999998   b  11.0  --  1.1\n",
      "  11  --  2.1999999999999997   b  13.2  --  1.2\n",
      "  12  --  2.4   b  15.6  --  1.3\n",
      "  13  --  2.6   b  18.2  --  1.4\n",
      "  14  --  2.8000000000000003   b  21.0  --  1.5\n",
      "  15  --  3.0000000000000004   b  24.0  --  1.6\n",
      "  16  --  3.2000000000000006   b  27.2  --  1.7\n",
      "  17  --  3.400000000000001   b  30.6  --  1.8\n",
      "  18  --  3.600000000000001   b  34.2  --  1.9000000000000001\n",
      "  19  --  3.800000000000001   b  38.00000000000001  --  2.0000000000000004\n",
      "  20  --  4.000000000000001   b  42.00000000000001  --  2.1000000000000005\n"
     ]
    }
   ],
   "source": [
    "a = 0.2\n",
    "b = 0\n",
    "\n",
    "for x in range(1,21):\n",
    "    b = b + a\n",
    "    t = sum([x for x in range(1,x+1)])\n",
    "    print(\" \", x, \" -- \", a, \"  b \", b, \" -- \", b/x)\n",
    "    a = a + 0.2"
   ]
  },
  {
   "cell_type": "code",
   "execution_count": 46,
   "id": "95a5f219",
   "metadata": {},
   "outputs": [
    {
     "data": {
      "text/plain": [
       "[1, 2, 3, 4, 5, 6, 7, 8, 9, 10, 11, 12, 13, 14, 15, 16, 17, 18, 19, 20]"
      ]
     },
     "execution_count": 46,
     "metadata": {},
     "output_type": "execute_result"
    }
   ],
   "source": [
    " [x for x in range(1,20+1)]"
   ]
  },
  {
   "cell_type": "code",
   "execution_count": 50,
   "id": "0a84f76e",
   "metadata": {},
   "outputs": [
    {
     "data": {
      "text/plain": [
       "42"
      ]
     },
     "execution_count": 50,
     "metadata": {},
     "output_type": "execute_result"
    }
   ],
   "source": [
    "14+14+14"
   ]
  },
  {
   "cell_type": "code",
   "execution_count": 53,
   "id": "fc80e648",
   "metadata": {},
   "outputs": [
    {
     "data": {
      "text/plain": [
       "45"
      ]
     },
     "execution_count": 53,
     "metadata": {},
     "output_type": "execute_result"
    }
   ],
   "source": [
    "9+9+9+9+9"
   ]
  },
  {
   "cell_type": "code",
   "execution_count": 54,
   "id": "439a21b7",
   "metadata": {},
   "outputs": [
    {
     "data": {
      "text/plain": [
       "40"
      ]
     },
     "execution_count": 54,
     "metadata": {},
     "output_type": "execute_result"
    }
   ],
   "source": [
    "4+4+4+4+4+4+4+4+4+4"
   ]
  },
  {
   "cell_type": "code",
   "execution_count": 55,
   "id": "58387a91",
   "metadata": {},
   "outputs": [
    {
     "data": {
      "text/plain": [
       "36"
      ]
     },
     "execution_count": 55,
     "metadata": {},
     "output_type": "execute_result"
    }
   ],
   "source": [
    "18*2"
   ]
  },
  {
   "cell_type": "code",
   "execution_count": 56,
   "id": "5d4f0f62",
   "metadata": {},
   "outputs": [
    {
     "data": {
      "text/plain": [
       "54"
      ]
     },
     "execution_count": 56,
     "metadata": {},
     "output_type": "execute_result"
    }
   ],
   "source": [
    "36+18"
   ]
  },
  {
   "cell_type": "code",
   "execution_count": null,
   "id": "0db2e229",
   "metadata": {},
   "outputs": [],
   "source": []
  }
 ],
 "metadata": {
  "kernelspec": {
   "display_name": "Python 3 (ipykernel)",
   "language": "python",
   "name": "python3"
  },
  "language_info": {
   "codemirror_mode": {
    "name": "ipython",
    "version": 3
   },
   "file_extension": ".py",
   "mimetype": "text/x-python",
   "name": "python",
   "nbconvert_exporter": "python",
   "pygments_lexer": "ipython3",
   "version": "3.9.5"
  }
 },
 "nbformat": 4,
 "nbformat_minor": 5
}
